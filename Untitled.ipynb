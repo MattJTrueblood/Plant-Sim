{
 "cells": [
  {
   "cell_type": "code",
   "execution_count": null,
   "id": "8570cace",
   "metadata": {},
   "outputs": [],
   "source": [
    "%load_ext autoreload\n",
    "%autoreload 2"
   ]
  },
  {
   "cell_type": "code",
   "execution_count": null,
   "id": "9b450ab6",
   "metadata": {},
   "outputs": [],
   "source": [
    "from plant_sim import create_world, run_sim\n",
    "from encoder import save_frames\n",
    "\n",
    "# This is one way to run the code to generate the final animation\n",
    "\n",
    "world = create_world(100, 100)  # Create a world of size 100x100\n",
    "frames = run_sim(world, 50)  # Run simulation for 50 steps\n",
    "save_frames(frames, 'simulation_output.gif')  # Save the frames as a GIF"
   ]
  },
  {
   "cell_type": "code",
   "execution_count": null,
   "id": "a380698b",
   "metadata": {},
   "outputs": [],
   "source": []
  }
 ],
 "metadata": {
  "kernelspec": {
   "display_name": "Python 3 (ipykernel)",
   "language": "python",
   "name": "python3"
  },
  "language_info": {
   "codemirror_mode": {
    "name": "ipython",
    "version": 3
   },
   "file_extension": ".py",
   "mimetype": "text/x-python",
   "name": "python",
   "nbconvert_exporter": "python",
   "pygments_lexer": "ipython3",
   "version": "3.11.3"
  }
 },
 "nbformat": 4,
 "nbformat_minor": 5
}
