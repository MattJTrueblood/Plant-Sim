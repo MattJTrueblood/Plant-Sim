{
 "cells": [
  {
   "cell_type": "code",
   "execution_count": 25,
   "id": "155c3299",
   "metadata": {},
   "outputs": [
    {
     "name": "stdout",
     "output_type": "stream",
     "text": [
      "The autoreload extension is already loaded. To reload it, use:\n",
      "  %reload_ext autoreload\n"
     ]
    }
   ],
   "source": [
    "%load_ext autoreload\n",
    "%autoreload 2"
   ]
  },
  {
   "cell_type": "code",
   "execution_count": 26,
   "id": "91513eea",
   "metadata": {},
   "outputs": [
    {
     "data": {
      "image/png": "[encoded data removed]",
      "text/plain": [
       "<Figure size 400x400 with 1 Axes>"
      ]
     },
     "metadata": {},
     "output_type": "display_data"
    }
   ],
   "source": [
    "from plant_sim import create_world, run_sim\n",
    "from encoder import save_frames, world_to_image\n",
    "import matplotlib.pyplot as plt\n",
    "\n",
    "# This is one easy way to run the code to generate the final animation\n",
    "\n",
    "WORLD_WIDTH = 100\n",
    "WORLD_HEIGHT = 100\n",
    "\n",
    "world = create_world(width=WORLD_WIDTH, height=WORLD_HEIGHT)  # Generate the world\n",
    "# frames = run_sim(world, 50)  # Run simulation for 50 steps\n",
    "# save_frames(frames, 'simulation_output.gif')  # Save the frames as a GIF\n",
    "\n",
    "# Set the scale factor for the image size\n",
    "scale_factor = 4  # Adjust this value to change the display size\n",
    "\n",
    "# Calculate the new figsize that scales up the image\n",
    "figsize_x = WORLD_WIDTH / plt.rcParams['figure.dpi'] * scale_factor\n",
    "figsize_y = WORLD_HEIGHT / plt.rcParams['figure.dpi'] * scale_factor\n",
    "\n",
    "image = world_to_image(world)\n",
    "plt.figure(figsize=(figsize_x, figsize_y))\n",
    "plt.imshow(image, aspect='equal')\n",
    "plt.axis('off')\n",
    "plt.show()\n"
   ]
  },
  {
   "cell_type": "code",
   "execution_count": null,
   "id": "810d3b76",
   "metadata": {},
   "outputs": [],
   "source": []
  }
 ],
 "metadata": {
  "kernelspec": {
   "display_name": "Python 3 (ipykernel)",
   "language": "python",
   "name": "python3"
  },
  "language_info": {
   "codemirror_mode": {
    "name": "ipython",
    "version": 3
   },
   "file_extension": ".py",
   "mimetype": "text/x-python",
   "name": "python",
   "nbconvert_exporter": "python",
   "pygments_lexer": "ipython3",
   "version": "3.11.3"
  }
 },
 "nbformat": 4,
 "nbformat_minor": 5
}
